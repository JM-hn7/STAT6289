{
  "nbformat": 4,
  "nbformat_minor": 0,
  "metadata": {
    "colab": {
      "name": "pytorch tutorial.ipynb",
      "provenance": [],
      "collapsed_sections": []
    },
    "kernelspec": {
      "name": "python3",
      "display_name": "Python 3"
    }
  },
  "cells": [
    {
      "cell_type": "markdown",
      "metadata": {
        "id": "4lEEeHCghOSj",
        "colab_type": "text"
      },
      "source": [
        "#homework_1 Problem_2\n",
        "  The following code were wrote with Pytorch Tutorial from Muzhe Guo:\n",
        "  https://github.com/Mooozer/STAT6289/blob/master/STATS6289_DL_pytorch_Presentation_MuzheGuo.ipynb\n",
        "  I made several modifications. And they are highlighted with comments.\n",
        "\n",
        "\n"
      ]
    },
    {
      "cell_type": "markdown",
      "metadata": {
        "id": "j5KkJwMxH8rH",
        "colab_type": "text"
      },
      "source": [
        "python objects"
      ]
    },
    {
      "cell_type": "code",
      "metadata": {
        "id": "SPn5MpjpG3Yh",
        "colab_type": "code",
        "colab": {
          "base_uri": "https://localhost:8080/",
          "height": 34
        },
        "outputId": "d4199252-682c-457c-cf30-cc58c7517d1b"
      },
      "source": [
        "[1,2,3]"
      ],
      "execution_count": 1,
      "outputs": [
        {
          "output_type": "execute_result",
          "data": {
            "text/plain": [
              "[1, 2, 3]"
            ]
          },
          "metadata": {
            "tags": []
          },
          "execution_count": 1
        }
      ]
    },
    {
      "cell_type": "code",
      "metadata": {
        "id": "aj9a1vEIHKEH",
        "colab_type": "code",
        "colab": {
          "base_uri": "https://localhost:8080/",
          "height": 34
        },
        "outputId": "cfc8dd66-593a-4831-810f-7f668dbcfe1b"
      },
      "source": [
        "(1,2,3)"
      ],
      "execution_count": 2,
      "outputs": [
        {
          "output_type": "execute_result",
          "data": {
            "text/plain": [
              "(1, 2, 3)"
            ]
          },
          "metadata": {
            "tags": []
          },
          "execution_count": 2
        }
      ]
    },
    {
      "cell_type": "code",
      "metadata": {
        "id": "kW1vCVMXHLPB",
        "colab_type": "code",
        "colab": {
          "base_uri": "https://localhost:8080/",
          "height": 34
        },
        "outputId": "00094f07-588f-4790-bfc5-4cdc20bb0b15"
      },
      "source": [
        "{1,2,3,4,\"a\",\"a\",\"s\",2,3,4}"
      ],
      "execution_count": 3,
      "outputs": [
        {
          "output_type": "execute_result",
          "data": {
            "text/plain": [
              "{1, 2, 3, 4, 'a', 's'}"
            ]
          },
          "metadata": {
            "tags": []
          },
          "execution_count": 3
        }
      ]
    },
    {
      "cell_type": "code",
      "metadata": {
        "id": "ppko_ur8HMPh",
        "colab_type": "code",
        "colab": {
          "base_uri": "https://localhost:8080/",
          "height": 34
        },
        "outputId": "ec716f46-d6a3-4a26-dc22-ccd74ee8da9d"
      },
      "source": [
        "d= {\"a\":1, \"b\":2, \"c\":3}\n",
        "d[\"a\"]"
      ],
      "execution_count": 4,
      "outputs": [
        {
          "output_type": "execute_result",
          "data": {
            "text/plain": [
              "1"
            ]
          },
          "metadata": {
            "tags": []
          },
          "execution_count": 4
        }
      ]
    },
    {
      "cell_type": "code",
      "metadata": {
        "id": "UqPrro_AHNnM",
        "colab_type": "code",
        "colab": {
          "base_uri": "https://localhost:8080/",
          "height": 102
        },
        "outputId": "884d9157-0150-48d4-8870-ae89823db4ab"
      },
      "source": [
        "for i in range(5):\n",
        "    print(i)"
      ],
      "execution_count": 3,
      "outputs": [
        {
          "output_type": "stream",
          "text": [
            "0\n",
            "1\n",
            "2\n",
            "3\n",
            "4\n"
          ],
          "name": "stdout"
        }
      ]
    },
    {
      "cell_type": "code",
      "metadata": {
        "id": "I8XWHS3XHOrX",
        "colab_type": "code",
        "colab": {
          "base_uri": "https://localhost:8080/",
          "height": 34
        },
        "outputId": "9c51a403-b596-4dca-ddff-05f6d35f8b8f"
      },
      "source": [
        "import torch\n",
        "print(torch.__version__)"
      ],
      "execution_count": 5,
      "outputs": [
        {
          "output_type": "stream",
          "text": [
            "1.6.0+cu101\n"
          ],
          "name": "stdout"
        }
      ]
    },
    {
      "cell_type": "code",
      "metadata": {
        "id": "CQmSNktFHQnG",
        "colab_type": "code",
        "colab": {
          "base_uri": "https://localhost:8080/",
          "height": 153
        },
        "outputId": "3df33a36-7514-43d1-9a56-8fa5af978bea"
      },
      "source": [
        "a = torch.tensor([1, 2, 3])\n",
        "print(a)\n",
        "print(type(a))\n",
        "print(a.dim())\n",
        "print( a.shape)\n",
        "\n",
        "print( a[0])\n",
        "print( type(a[0]))\n",
        "print( type(a[0].item()))\n",
        "\n",
        "\n",
        "a[1] = 10\n",
        "print(a)"
      ],
      "execution_count": 6,
      "outputs": [
        {
          "output_type": "stream",
          "text": [
            "tensor([1, 2, 3])\n",
            "<class 'torch.Tensor'>\n",
            "1\n",
            "torch.Size([3])\n",
            "tensor(1)\n",
            "<class 'torch.Tensor'>\n",
            "<class 'int'>\n",
            "tensor([ 1, 10,  3])\n"
          ],
          "name": "stdout"
        }
      ]
    },
    {
      "cell_type": "code",
      "metadata": {
        "id": "aw6HgYbyHUPU",
        "colab_type": "code",
        "colab": {
          "base_uri": "https://localhost:8080/",
          "height": 153
        },
        "outputId": "b36e2052-6825-4666-b40a-ac94115f8961"
      },
      "source": [
        "b = torch.tensor([[1, 2, 3], [6, 6, 6]])\n",
        "print(b)\n",
        "print( b.dim())\n",
        "print( b.shape)\n",
        "\n",
        "print('b[0, 1]:', b[0, 1])\n",
        "print('b[1, 2]:', b[1, 2])\n",
        "\n",
        "\n",
        "b[1, 1] = 100\n",
        "print(b)"
      ],
      "execution_count": 7,
      "outputs": [
        {
          "output_type": "stream",
          "text": [
            "tensor([[1, 2, 3],\n",
            "        [6, 6, 6]])\n",
            "2\n",
            "torch.Size([2, 3])\n",
            "b[0, 1]: tensor(2)\n",
            "b[1, 2]: tensor(6)\n",
            "tensor([[  1,   2,   3],\n",
            "        [  6, 100,   6]])\n"
          ],
          "name": "stdout"
        }
      ]
    },
    {
      "cell_type": "code",
      "metadata": {
        "id": "LIZterw2HbjQ",
        "colab_type": "code",
        "colab": {
          "base_uri": "https://localhost:8080/",
          "height": 238
        },
        "outputId": "1ba704f5-efbe-4c64-e099-f578ef4cdebd"
      },
      "source": [
        "\n",
        "a = torch.zeros(3,4)\n",
        "print(a)\n",
        "\n",
        "\n",
        "b = torch.ones(2, 2)\n",
        "print(b)\n",
        "\n",
        "\n",
        "c = torch.eye(4)\n",
        "print(c)\n",
        "\n",
        "d = torch.rand(4, 6) #random value between [0,1] with shape (4,6)\n",
        "print(d)"
      ],
      "execution_count": 8,
      "outputs": [
        {
          "output_type": "stream",
          "text": [
            "tensor([[0., 0., 0., 0.],\n",
            "        [0., 0., 0., 0.],\n",
            "        [0., 0., 0., 0.]])\n",
            "tensor([[1., 1.],\n",
            "        [1., 1.]])\n",
            "tensor([[1., 0., 0., 0.],\n",
            "        [0., 1., 0., 0.],\n",
            "        [0., 0., 1., 0.],\n",
            "        [0., 0., 0., 1.]])\n",
            "tensor([[0.2944, 0.4118, 0.5540, 0.5077, 0.5118, 0.5245],\n",
            "        [0.2273, 0.4473, 0.4604, 0.6484, 0.3166, 0.5398],\n",
            "        [0.5697, 0.5554, 0.8023, 0.8377, 0.7979, 0.8640],\n",
            "        [0.0216, 0.5765, 0.6001, 0.6504, 0.3339, 0.7889]])\n"
          ],
          "name": "stdout"
        }
      ]
    },
    {
      "cell_type": "code",
      "metadata": {
        "id": "95Vgc8ciHhxr",
        "colab_type": "code",
        "colab": {
          "base_uri": "https://localhost:8080/",
          "height": 119
        },
        "outputId": "cd92b579-1bae-4d33-e360-8d2ab558efd2"
      },
      "source": [
        "x0 = torch.tensor([1, 2])  \n",
        "x1 = torch.tensor([1., 2.]) \n",
        "x2 = torch.tensor([1., 2]) \n",
        "print(x0.dtype)\n",
        "print(x1.dtype)\n",
        "print(x2.dtype)\n",
        "\n",
        "#asign different datatypes\n",
        "y0 = torch.tensor([1, 2], dtype=torch.float32)  \n",
        "y1 = torch.tensor([1, 2], dtype=torch.int32)    \n",
        "y2 = torch.tensor([1, 2], dtype=torch.int64)   \n",
        "print( y0.dtype)\n",
        "print( y1.dtype)\n",
        "print( y2.dtype)\n"
      ],
      "execution_count": 9,
      "outputs": [
        {
          "output_type": "stream",
          "text": [
            "torch.int64\n",
            "torch.float32\n",
            "torch.float32\n",
            "torch.float32\n",
            "torch.int32\n",
            "torch.int64\n"
          ],
          "name": "stdout"
        }
      ]
    },
    {
      "cell_type": "code",
      "metadata": {
        "id": "vFlHVNRiHj3H",
        "colab_type": "code",
        "colab": {
          "base_uri": "https://localhost:8080/",
          "height": 102
        },
        "outputId": "03d0f8c5-7d66-4dd0-bb26-79f326ef312a"
      },
      "source": [
        "x0 = torch.eye(3, dtype=torch.int64)\n",
        "x1 = x0.float()  \n",
        "x2 = x0.double() \n",
        "x3 = x0.to(torch.float32) \n",
        "x4 = x0.to(torch.float64) \n",
        "print('x0:', x0.dtype)\n",
        "print('x1:', x1.dtype)\n",
        "print('x2:', x2.dtype)\n",
        "print('x3:', x3.dtype)\n",
        "print('x4:', x4.dtype)"
      ],
      "execution_count": 22,
      "outputs": [
        {
          "output_type": "stream",
          "text": [
            "x0: torch.int64\n",
            "x1: torch.float32\n",
            "x2: torch.float64\n",
            "x3: torch.float32\n",
            "x4: torch.float64\n"
          ],
          "name": "stdout"
        }
      ]
    },
    {
      "cell_type": "code",
      "metadata": {
        "id": "jLIAFhD9Hle_",
        "colab_type": "code",
        "colab": {
          "base_uri": "https://localhost:8080/",
          "height": 136
        },
        "outputId": "54051831-a87c-4edc-8826-8e2b48ecb494"
      },
      "source": [
        "x0 = torch.eye(4, dtype=torch.float64) \n",
        "x1 = torch.zeros_like(x0)              \n",
        "x2 = x0.new_zeros(1,2)              \n",
        "x3 = torch.ones(3, 4).to(x0)    \n",
        "print('x0 shape is %r, dtype is %r' % (x0.shape, x0.dtype))\n",
        "print('x1 shape is %r, dtype is %r' % (x1.shape, x1.dtype))\n",
        "print('x2 shape is %r, dtype is %r' % (x2.shape, x2.dtype))\n",
        "print('x3 shape is %r, dtype is %r' % (x3.shape, x3.dtype))\n",
        "x3"
      ],
      "execution_count": 31,
      "outputs": [
        {
          "output_type": "stream",
          "text": [
            "x0 shape is torch.Size([4, 4]), dtype is torch.float64\n",
            "x1 shape is torch.Size([4, 4]), dtype is torch.float64\n",
            "x2 shape is torch.Size([1, 2]), dtype is torch.float64\n",
            "x3 shape is torch.Size([3, 4]), dtype is torch.float64\n"
          ],
          "name": "stdout"
        },
        {
          "output_type": "execute_result",
          "data": {
            "text/plain": [
              "tensor([[1., 1., 1., 1.],\n",
              "        [1., 1., 1., 1.],\n",
              "        [1., 1., 1., 1.]], dtype=torch.float64)"
            ]
          },
          "metadata": {
            "tags": []
          },
          "execution_count": 31
        }
      ]
    },
    {
      "cell_type": "markdown",
      "metadata": {
        "id": "P2sqOLuLHp3E",
        "colab_type": "text"
      },
      "source": [
        "2.Tensor indexing"
      ]
    },
    {
      "cell_type": "code",
      "metadata": {
        "id": "ONbH1W-kHnSt",
        "colab_type": "code",
        "colab": {
          "base_uri": "https://localhost:8080/",
          "height": 153
        },
        "outputId": "a450f519-c79e-4c61-e645-737e75d9be6b"
      },
      "source": [
        "a = torch.tensor([1, 2, 3, 4, 5, 6, 7])\n",
        "print(0, a)      \n",
        "print(1, a[2:5])   \n",
        "print(2, a[2:])   \n",
        "print(3, a[:5])    \n",
        "print(4, a[:])     \n",
        "print(5, a[1:5:2]) \n",
        "print(6, a[:-1])   \n",
        "print(7, a[-4::2]) "
      ],
      "execution_count": 32,
      "outputs": [
        {
          "output_type": "stream",
          "text": [
            "0 tensor([1, 2, 3, 4, 5, 6, 7])\n",
            "1 tensor([3, 4, 5])\n",
            "2 tensor([3, 4, 5, 6, 7])\n",
            "3 tensor([1, 2, 3, 4, 5])\n",
            "4 tensor([1, 2, 3, 4, 5, 6, 7])\n",
            "5 tensor([2, 4])\n",
            "6 tensor([1, 2, 3, 4, 5, 6])\n",
            "7 tensor([4, 6])\n"
          ],
          "name": "stdout"
        }
      ]
    },
    {
      "cell_type": "code",
      "metadata": {
        "id": "_j7BgP6iHvLh",
        "colab_type": "code",
        "colab": {
          "base_uri": "https://localhost:8080/",
          "height": 170
        },
        "outputId": "7ba91393-3b3c-4d27-8bd0-61115d44015b"
      },
      "source": [
        "\n",
        "a = torch.tensor([[1,2,3,4], [5,6,7,8], [9,10,11,12]])\n",
        "print(a.shape)\n",
        "\n",
        "print(a[1, :])\n",
        "print(a[1]) \n",
        "print(a[:, 2])\n",
        "print(a[:2, -3:])\n",
        "print(a[::2, 1:3])\n",
        "print(a[1,1:3])"
      ],
      "execution_count": 40,
      "outputs": [
        {
          "output_type": "stream",
          "text": [
            "torch.Size([3, 4])\n",
            "tensor([5, 6, 7, 8])\n",
            "tensor([5, 6, 7, 8])\n",
            "tensor([ 3,  7, 11])\n",
            "tensor([[2, 3, 4],\n",
            "        [6, 7, 8]])\n",
            "tensor([[ 2,  3],\n",
            "        [10, 11]])\n",
            "tensor([6, 7])\n"
          ],
          "name": "stdout"
        }
      ]
    },
    {
      "cell_type": "code",
      "metadata": {
        "id": "ZDCElJdWHxC2",
        "colab_type": "code",
        "colab": {
          "base_uri": "https://localhost:8080/",
          "height": 187
        },
        "outputId": "de9b967a-38cb-4251-9d8b-87f503927993"
      },
      "source": [
        "a = torch.tensor([[1,2,3,4], [5,6,7,8], [9,10,11,12]])\n",
        "print(a)\n",
        "\n",
        "row_r1 = a[1, :]   #second row of a \n",
        "row_r2 = a[1:2, :]  #1 row and 4 column\n",
        "print(row_r1, row_r1.shape)\n",
        "print(row_r2, row_r2.shape)\n",
        "\n",
        "col_r1 = a[:, 1]\n",
        "col_r2 = a[:, 1:2]\n",
        "print(col_r1, col_r1.shape)\n",
        "print(col_r2, col_r2.shape)"
      ],
      "execution_count": 42,
      "outputs": [
        {
          "output_type": "stream",
          "text": [
            "Original tensor\n",
            "tensor([[ 1,  2,  3,  4],\n",
            "        [ 5,  6,  7,  8],\n",
            "        [ 9, 10, 11, 12]])\n",
            "tensor([5, 6, 7, 8]) torch.Size([4])\n",
            "tensor([[5, 6, 7, 8]]) torch.Size([1, 4])\n",
            "tensor([ 2,  6, 10]) torch.Size([3])\n",
            "tensor([[ 2],\n",
            "        [ 6],\n",
            "        [10]]) torch.Size([3, 1])\n"
          ],
          "name": "stdout"
        }
      ]
    },
    {
      "cell_type": "code",
      "metadata": {
        "id": "YD66h8xJHzHK",
        "colab_type": "code",
        "colab": {
          "base_uri": "https://localhost:8080/",
          "height": 187
        },
        "outputId": "0e4fd8e5-850a-4068-d0dd-1ccdc37c39ee"
      },
      "source": [
        "a = torch.tensor([[1, 2, 3, 4], [5, 6, 7, 8]])\n",
        "b = a[0, 1:]\n",
        "c = a[0, 1:].clone()\n",
        "print(a)\n",
        "print(b)\n",
        "print(c)\n",
        "\n",
        "a[0, 1] = 20  # a[0, 1] and b[0] point to the same element\n",
        "b[1] = 100    # b[1] and a[0, 2] point to the same element\n",
        "c[2] = 40     # c is a clone, so it has its own data\n",
        "print('\\nAfter mutating:')\n",
        "print(a)\n",
        "print(b)\n",
        "print(c)"
      ],
      "execution_count": 44,
      "outputs": [
        {
          "output_type": "stream",
          "text": [
            "tensor([[1, 2, 3, 4],\n",
            "        [5, 6, 7, 8]])\n",
            "tensor([2, 3, 4])\n",
            "tensor([2, 3, 4])\n",
            "\n",
            "After mutating:\n",
            "tensor([[  1,  20, 100,   4],\n",
            "        [  5,   6,   7,   8]])\n",
            "tensor([ 20, 100,   4])\n",
            "tensor([ 2,  3, 40])\n"
          ],
          "name": "stdout"
        }
      ]
    },
    {
      "cell_type": "markdown",
      "metadata": {
        "id": "6ilmQFORRIgl",
        "colab_type": "text"
      },
      "source": [
        "# **modification_1**: try not to use 'idx'\n",
        "the results are the same."
      ]
    },
    {
      "cell_type": "code",
      "metadata": {
        "id": "kFoIhmazH0cf",
        "colab_type": "code",
        "colab": {
          "base_uri": "https://localhost:8080/",
          "height": 408
        },
        "outputId": "c8e444aa-f3e0-438e-f55d-c4b942f1be8c"
      },
      "source": [
        "a = torch.tensor([[1, 2, 3, 4], [5, 6, 7, 8], [9, 10, 11, 12]])\n",
        "print(a)\n",
        "\n",
        "\n",
        "idx = [0, 0, 2, 1, 1]  \n",
        "print('\\nReordered rows:')\n",
        "print(a[[1,1,2,0,0]])\n",
        "print(a[idx])\n",
        "\n",
        "idx = torch.tensor([3, 2, 1, ]) \n",
        "print('\\nReordered columns:')\n",
        "print(a[:, idx])\n",
        "print(a[:,[3,1]])"
      ],
      "execution_count": 52,
      "outputs": [
        {
          "output_type": "stream",
          "text": [
            "tensor([[ 1,  2,  3,  4],\n",
            "        [ 5,  6,  7,  8],\n",
            "        [ 9, 10, 11, 12]])\n",
            "\n",
            "Reordered rows:\n",
            "tensor([[ 5,  6,  7,  8],\n",
            "        [ 5,  6,  7,  8],\n",
            "        [ 9, 10, 11, 12],\n",
            "        [ 1,  2,  3,  4],\n",
            "        [ 1,  2,  3,  4]])\n",
            "tensor([[ 1,  2,  3,  4],\n",
            "        [ 1,  2,  3,  4],\n",
            "        [ 9, 10, 11, 12],\n",
            "        [ 5,  6,  7,  8],\n",
            "        [ 5,  6,  7,  8]])\n",
            "\n",
            "Reordered columns:\n",
            "tensor([[ 4,  3,  2],\n",
            "        [ 8,  7,  6],\n",
            "        [12, 11, 10]])\n",
            "tensor([[ 4,  2],\n",
            "        [ 8,  6],\n",
            "        [12, 10]])\n"
          ],
          "name": "stdout"
        }
      ]
    },
    {
      "cell_type": "markdown",
      "metadata": {
        "id": "-2QkZI4GSEna",
        "colab_type": "text"
      },
      "source": [
        "# **modification_2**: manually get the diagonal\n"
      ]
    },
    {
      "cell_type": "code",
      "metadata": {
        "id": "iFYPAHeXNokI",
        "colab_type": "code",
        "colab": {
          "base_uri": "https://localhost:8080/",
          "height": 102
        },
        "outputId": "31651b93-b192-44bb-a463-a22f91b9bf64"
      },
      "source": [
        "a = torch.tensor([[1, 2, 3], [4, 5, 6], [7, 8, 9]])\n",
        "\n",
        "idx = [0, 1, 2]\n",
        "print(a[idx, idx])\n",
        "print(a[[1,2],[1,2]])\n",
        "a[idx, idx] =torch.tensor([11, 22, 33])\n",
        "print(a)"
      ],
      "execution_count": 69,
      "outputs": [
        {
          "output_type": "stream",
          "text": [
            "tensor([1, 5, 9])\n",
            "tensor([5, 9])\n",
            "tensor([[11,  2,  3],\n",
            "        [ 4, 22,  6],\n",
            "        [ 7,  8, 33]])\n"
          ],
          "name": "stdout"
        }
      ]
    },
    {
      "cell_type": "code",
      "metadata": {
        "id": "3cnWTJOqPeAA",
        "colab_type": "code",
        "colab": {
          "base_uri": "https://localhost:8080/",
          "height": 102
        },
        "outputId": "609a0f30-12cb-4e2a-cfa0-c36f88147db2"
      },
      "source": [
        "a = torch.tensor([[1, 2, 3], [4, 5, 6], [7, 8, 9], [10, 11, 12]])\n",
        "\n",
        "idx0 = torch.arange(4)  # Quick way to build [0, 1, 2, 3]\n",
        "idx1 = torch.tensor([0,2,1,1])\n",
        "print(a[idx0, idx1])\n",
        "\n",
        "a[idx0, idx1] = 0\n",
        "print(a)"
      ],
      "execution_count": 78,
      "outputs": [
        {
          "output_type": "stream",
          "text": [
            "tensor([ 1,  6,  8, 11])\n",
            "tensor([[ 0,  2,  3],\n",
            "        [ 4,  5,  0],\n",
            "        [ 7,  0,  9],\n",
            "        [10,  0, 12]])\n"
          ],
          "name": "stdout"
        }
      ]
    },
    {
      "cell_type": "code",
      "metadata": {
        "id": "s2pyV49nQsE6",
        "colab_type": "code",
        "colab": {
          "base_uri": "https://localhost:8080/",
          "height": 187
        },
        "outputId": "4fcea277-9e70-499e-e19e-a99aae1665f1"
      },
      "source": [
        "a = torch.tensor([[1,2], [3, 4], [5, 6]])\n",
        "print(a)\n",
        "\n",
        "mask = (a <= 3)\n",
        "print(mask)\n",
        "\n",
        "print(a[mask])\n",
        "\n",
        "a[a == 3] = 0\n",
        "print(a)"
      ],
      "execution_count": 84,
      "outputs": [
        {
          "output_type": "stream",
          "text": [
            "tensor([[1, 2],\n",
            "        [3, 4],\n",
            "        [5, 6]])\n",
            "tensor([[ True,  True],\n",
            "        [ True, False],\n",
            "        [False, False]])\n",
            "tensor([1, 2, 3])\n",
            "tensor([[1, 2],\n",
            "        [0, 4],\n",
            "        [5, 6]])\n"
          ],
          "name": "stdout"
        }
      ]
    },
    {
      "cell_type": "markdown",
      "metadata": {
        "id": "xlJeUn_ARtKj",
        "colab_type": "text"
      },
      "source": [
        "3.Reshaping operations"
      ]
    },
    {
      "cell_type": "code",
      "metadata": {
        "id": "m_BsE-SqQ70I",
        "colab_type": "code",
        "colab": {
          "base_uri": "https://localhost:8080/",
          "height": 323
        },
        "outputId": "4275badd-a94f-4fef-c440-ddd76db5a4c0"
      },
      "source": [
        "x0 = torch.tensor([[1, 2, 3, 4], [5, 6, 7, 8]])\n",
        "\n",
        "x1 = x0.view(8)\n",
        "print(x1)\n",
        "\n",
        "x2 = x1.view(1, 8) #shape (1,8)\n",
        "print(x2)\n",
        "print('shape:', x2.shape)\n",
        "\n",
        "x3 = x1.view(8, 1) #shape (8,1)\n",
        "print(x3)\n",
        "print('shape:', x3.shape)\n",
        "\n",
        "x4 = x1.view(2, 2, 2) #shape(2,2,2)\n",
        "print(x4)\n",
        "print('shape:', x4.shape)"
      ],
      "execution_count": 87,
      "outputs": [
        {
          "output_type": "stream",
          "text": [
            "tensor([1, 2, 3, 4, 5, 6, 7, 8])\n",
            "tensor([[1, 2, 3, 4, 5, 6, 7, 8]])\n",
            "shape: torch.Size([1, 8])\n",
            "tensor([[1],\n",
            "        [2],\n",
            "        [3],\n",
            "        [4],\n",
            "        [5],\n",
            "        [6],\n",
            "        [7],\n",
            "        [8]])\n",
            "shape: torch.Size([8, 1])\n",
            "tensor([[[1, 2],\n",
            "         [3, 4]],\n",
            "\n",
            "        [[5, 6],\n",
            "         [7, 8]]])\n",
            "shape: torch.Size([2, 2, 2])\n"
          ],
          "name": "stdout"
        }
      ]
    },
    {
      "cell_type": "code",
      "metadata": {
        "id": "iKL3k7mPSZ69",
        "colab_type": "code",
        "colab": {
          "base_uri": "https://localhost:8080/",
          "height": 136
        },
        "outputId": "ce290254-804b-473a-9809-86a0b8f54749"
      },
      "source": [
        "x0 = torch.tensor([[1,4,6,2], [2,7,22,7]])\n",
        "x1 = x0.view(-1, )\n",
        "x2 = x0.view(-1, 2) # 2 columns\n",
        "\n",
        "print(x0)\n",
        "print(x1)\n",
        "print(x2)"
      ],
      "execution_count": 89,
      "outputs": [
        {
          "output_type": "stream",
          "text": [
            "tensor([[ 1,  4,  6,  2],\n",
            "        [ 2,  7, 22,  7]])\n",
            "tensor([ 1,  4,  6,  2,  2,  7, 22,  7])\n",
            "tensor([[ 1,  4],\n",
            "        [ 6,  2],\n",
            "        [ 2,  7],\n",
            "        [22,  7]])\n"
          ],
          "name": "stdout"
        }
      ]
    },
    {
      "cell_type": "code",
      "metadata": {
        "id": "CV9F_PWUS5El",
        "colab_type": "code",
        "colab": {
          "base_uri": "https://localhost:8080/",
          "height": 153
        },
        "outputId": "8f4e8ae3-0069-4f32-c624-a24c3221414d"
      },
      "source": [
        "x = torch.tensor([[1, 2, 3], [4, 5, 6], [1,5,2]])\n",
        "x_flat = x.view(-1)\n",
        "print(x)\n",
        "print(x_flat)\n",
        "\n",
        "x[0, 0] = 10   \n",
        "x_flat[1] = 20\n",
        "\n",
        "print(x)\n",
        "print(x_flat)\n",
        "#both changed the values in x"
      ],
      "execution_count": 90,
      "outputs": [
        {
          "output_type": "stream",
          "text": [
            "tensor([[1, 2, 3],\n",
            "        [4, 5, 6],\n",
            "        [1, 5, 2]])\n",
            "tensor([1, 2, 3, 4, 5, 6, 1, 5, 2])\n",
            "tensor([[10, 20,  3],\n",
            "        [ 4,  5,  6],\n",
            "        [ 1,  5,  2]])\n",
            "tensor([10, 20,  3,  4,  5,  6,  1,  5,  2])\n"
          ],
          "name": "stdout"
        }
      ]
    },
    {
      "cell_type": "code",
      "metadata": {
        "id": "_3dssj6OTkyj",
        "colab_type": "code",
        "colab": {
          "base_uri": "https://localhost:8080/",
          "height": 204
        },
        "outputId": "5320dba2-1b40-40ee-b343-6253a646cc30"
      },
      "source": [
        "x = torch.tensor([[1, 2, 3], [4, 5, 6]])\n",
        "print(x)\n",
        "print(x.view(3, 2))\n",
        "print(torch.t(x))\n",
        "print(x.t())"
      ],
      "execution_count": 92,
      "outputs": [
        {
          "output_type": "stream",
          "text": [
            "tensor([[1, 2, 3],\n",
            "        [4, 5, 6]])\n",
            "tensor([[1, 2],\n",
            "        [3, 4],\n",
            "        [5, 6]])\n",
            "tensor([[1, 4],\n",
            "        [2, 5],\n",
            "        [3, 6]])\n",
            "tensor([[1, 4],\n",
            "        [2, 5],\n",
            "        [3, 6]])\n"
          ],
          "name": "stdout"
        }
      ]
    },
    {
      "cell_type": "code",
      "metadata": {
        "id": "vc7pYH4ETxWu",
        "colab_type": "code",
        "colab": {
          "base_uri": "https://localhost:8080/",
          "height": 527
        },
        "outputId": "94956cb3-da11-4584-88f5-829d2b3a07d4"
      },
      "source": [
        "x0 = torch.tensor([\n",
        "     [[1,  2,  3,  4],\n",
        "      [5,  6,  7,  8],\n",
        "      [9, 10, 11, 12]],\n",
        "     [[13, 14, 15, 16],\n",
        "      [17, 18, 19, 20],\n",
        "      [21, 22, 23, 24]]])\n",
        "print(x0)\n",
        "print(x0.shape)\n",
        "\n",
        "x1 = x0.transpose(1,2)\n",
        "print(x1)\n",
        "print(x1.shape)\n",
        "x2 = x0.permute(2,0,1) #old dimension (2,0,1) at dimension (0,1,2) respectively\n",
        "print(x2)\n",
        "print('shape:', x2.shape)"
      ],
      "execution_count": 10,
      "outputs": [
        {
          "output_type": "stream",
          "text": [
            "tensor([[[ 1,  2,  3,  4],\n",
            "         [ 5,  6,  7,  8],\n",
            "         [ 9, 10, 11, 12]],\n",
            "\n",
            "        [[13, 14, 15, 16],\n",
            "         [17, 18, 19, 20],\n",
            "         [21, 22, 23, 24]]])\n",
            "torch.Size([2, 3, 4])\n",
            "tensor([[[ 1,  5,  9],\n",
            "         [ 2,  6, 10],\n",
            "         [ 3,  7, 11],\n",
            "         [ 4,  8, 12]],\n",
            "\n",
            "        [[13, 17, 21],\n",
            "         [14, 18, 22],\n",
            "         [15, 19, 23],\n",
            "         [16, 20, 24]]])\n",
            "torch.Size([2, 4, 3])\n",
            "tensor([[[ 1,  5,  9],\n",
            "         [13, 17, 21]],\n",
            "\n",
            "        [[ 2,  6, 10],\n",
            "         [14, 18, 22]],\n",
            "\n",
            "        [[ 3,  7, 11],\n",
            "         [15, 19, 23]],\n",
            "\n",
            "        [[ 4,  8, 12],\n",
            "         [16, 20, 24]]])\n",
            "shape: torch.Size([4, 2, 3])\n"
          ],
          "name": "stdout"
        }
      ]
    },
    {
      "cell_type": "code",
      "metadata": {
        "id": "jqGWJse-U5iA",
        "colab_type": "code",
        "colab": {
          "base_uri": "https://localhost:8080/",
          "height": 88
        },
        "outputId": "632279ed-aceb-4dfc-a981-e20921fbf92f"
      },
      "source": [
        "x0 = torch.randn(3,4,2)\n",
        "\n",
        "try:\n",
        "  x1 = x0.transpose(1, 2).view(8, 3)\n",
        "except RuntimeError as e:\n",
        "  print(type(e), e)\n",
        "  \n",
        "x1 = x0.transpose(1, 2).contiguous().view(8, 3)\n",
        "x2 = x0.transpose(1, 2).reshape(8, 3)\n",
        "print(x1.shape)\n",
        "print(x2.shape)\n"
      ],
      "execution_count": 100,
      "outputs": [
        {
          "output_type": "stream",
          "text": [
            "<class 'RuntimeError'> view size is not compatible with input tensor's size and stride (at least one dimension spans across two contiguous subspaces). Use .reshape(...) instead.\n",
            "torch.Size([8, 3])\n",
            "torch.Size([8, 3])\n"
          ],
          "name": "stdout"
        }
      ]
    },
    {
      "cell_type": "code",
      "metadata": {
        "id": "w0l0JTkfWO_O",
        "colab_type": "code",
        "colab": {
          "base_uri": "https://localhost:8080/",
          "height": 255
        },
        "outputId": "aacdc338-895e-4448-e9d4-500eed4a10f5"
      },
      "source": [
        "x = torch.tensor([[1, 2, 3, 4]], dtype=torch.float32)\n",
        "y = torch.tensor([[5, 6, 7, 8]], dtype=torch.float32)\n",
        "# Elementwise sum\n",
        "print((x + y) == torch.add(x,y))\n",
        "print(torch.add(x,y) == x.add(y))\n",
        "# Elementwise difference\n",
        "print(x - y)\n",
        "print(torch.sub(x, y))\n",
        "print(x.sub(y))\n",
        "\n",
        "# Elementwise product\n",
        "print(x * y)\n",
        "print(torch.mul(x, y))\n",
        "print(x.mul(y))\n",
        "\n",
        "# Elementwise division\n",
        "print(x / y)\n",
        "print(torch.div(x, y))\n",
        "print(x.div(y))\n",
        "\n",
        "# Elementwise power\n",
        "print(x ** y)\n",
        "print(torch.pow(x, y))\n",
        "print(x.pow(y))"
      ],
      "execution_count": 106,
      "outputs": [
        {
          "output_type": "stream",
          "text": [
            "tensor([[True, True, True, True]])\n",
            "tensor([[True, True, True, True]])\n",
            "tensor([[-4., -4., -4., -4.]])\n",
            "tensor([[-4., -4., -4., -4.]])\n",
            "tensor([[-4., -4., -4., -4.]])\n",
            "tensor([[ 5., 12., 21., 32.]])\n",
            "tensor([[ 5., 12., 21., 32.]])\n",
            "tensor([[ 5., 12., 21., 32.]])\n",
            "tensor([[0.2000, 0.3333, 0.4286, 0.5000]])\n",
            "tensor([[0.2000, 0.3333, 0.4286, 0.5000]])\n",
            "tensor([[0.2000, 0.3333, 0.4286, 0.5000]])\n",
            "tensor([[1.0000e+00, 6.4000e+01, 2.1870e+03, 6.5536e+04]])\n",
            "tensor([[1.0000e+00, 6.4000e+01, 2.1870e+03, 6.5536e+04]])\n",
            "tensor([[1.0000e+00, 6.4000e+01, 2.1870e+03, 6.5536e+04]])\n"
          ],
          "name": "stdout"
        }
      ]
    },
    {
      "cell_type": "code",
      "metadata": {
        "id": "-_gRaSJpWP7S",
        "colab_type": "code",
        "colab": {
          "base_uri": "https://localhost:8080/",
          "height": 170
        },
        "outputId": "236df663-e5c5-4c40-f31c-6e4e21842443"
      },
      "source": [
        "x = torch.tensor([[1, 2, 3, 4]], dtype=torch.float32)\n",
        "\n",
        "print('Square root:')\n",
        "print(torch.sqrt(x))\n",
        "print(x.sqrt())\n",
        "\n",
        "print('\\nTrig functions:')\n",
        "print(torch.sin(x))\n",
        "print(x.sin())\n",
        "print(torch.cos(x))\n",
        "print(x.cos())"
      ],
      "execution_count": 107,
      "outputs": [
        {
          "output_type": "stream",
          "text": [
            "Square root:\n",
            "tensor([[1.0000, 1.4142, 1.7321, 2.0000]])\n",
            "tensor([[1.0000, 1.4142, 1.7321, 2.0000]])\n",
            "\n",
            "Trig functions:\n",
            "tensor([[ 0.8415,  0.9093,  0.1411, -0.7568]])\n",
            "tensor([[ 0.8415,  0.9093,  0.1411, -0.7568]])\n",
            "tensor([[ 0.5403, -0.4161, -0.9900, -0.6536]])\n",
            "tensor([[ 0.5403, -0.4161, -0.9900, -0.6536]])\n"
          ],
          "name": "stdout"
        }
      ]
    },
    {
      "cell_type": "code",
      "metadata": {
        "id": "6uQ4joU-X6q8",
        "colab_type": "code",
        "colab": {
          "base_uri": "https://localhost:8080/",
          "height": 119
        },
        "outputId": "5e3e24d0-8c89-4cd7-92eb-755cf7776319"
      },
      "source": [
        "x = torch.tensor([[4, 5, 3], \n",
        "                  [41, 52, 6]])\n",
        "print(torch.sum(x))\n",
        "print(x.sum())\n",
        "\n",
        "print(torch.sum(x, dim=0))\n",
        "print(x.sum(dim=0))\n",
        "\n",
        "print(torch.sum(x, dim=1))\n",
        "print(x.sum(dim=1))"
      ],
      "execution_count": 111,
      "outputs": [
        {
          "output_type": "stream",
          "text": [
            "tensor(111)\n",
            "tensor(111)\n",
            "tensor([45, 57,  9])\n",
            "tensor([45, 57,  9])\n",
            "tensor([12, 99])\n",
            "tensor([12, 99])\n"
          ],
          "name": "stdout"
        }
      ]
    },
    {
      "cell_type": "code",
      "metadata": {
        "id": "3ajUMk1gYei2",
        "colab_type": "code",
        "colab": {
          "base_uri": "https://localhost:8080/",
          "height": 187
        },
        "outputId": "22ffdd37-1e54-4daf-bce5-850e4d046f31"
      },
      "source": [
        "x = torch.tensor([[2, 4, 3, 5], [3, 3, 5, 2]], dtype=torch.float32)\n",
        "\n",
        "print('\\nOverall minimum: ', x.min())\n",
        "\n",
        "col_min_vals, col_min_idxs = x.min(dim=0)\n",
        "print('\\nMinimum along each column:')\n",
        "print('values:', col_min_vals)\n",
        "print('idxs:', col_min_idxs)\n",
        " \n",
        "row_min_vals, row_min_idxs = x.min(dim=1)\n",
        "print('\\nMinimum along each row:')\n",
        "print('values:', row_min_vals)\n",
        "print('idxs:', row_min_idxs)"
      ],
      "execution_count": 112,
      "outputs": [
        {
          "output_type": "stream",
          "text": [
            "\n",
            "Overall minimum:  tensor(2.)\n",
            "\n",
            "Minimum along each column:\n",
            "values: tensor([2., 3., 3., 2.])\n",
            "idxs: tensor([0, 1, 0, 1])\n",
            "\n",
            "Minimum along each row:\n",
            "values: tensor([2., 2.])\n",
            "idxs: tensor([0, 3])\n"
          ],
          "name": "stdout"
        }
      ]
    },
    {
      "cell_type": "code",
      "metadata": {
        "id": "XBipbAeMaFpR",
        "colab_type": "code",
        "colab": {
          "base_uri": "https://localhost:8080/",
          "height": 85
        },
        "outputId": "37d70315-8b03-4c85-bd62-4d6c32193af8"
      },
      "source": [
        "\n",
        "x = torch.randn(4,5,6,7)\n",
        "print(x.shape)\n",
        "\n",
        "\n",
        "x = x.mean(dim=1)\n",
        "print(x.shape)\n",
        "\n",
        "x = x.sum(dim=2)\n",
        "print(x.shape)\n",
        "\n",
        "x = x.mean(dim=1, keepdim=True)\n",
        "print(x.shape)"
      ],
      "execution_count": 115,
      "outputs": [
        {
          "output_type": "stream",
          "text": [
            "torch.Size([4, 5, 6, 7])\n",
            "torch.Size([4, 6, 7])\n",
            "torch.Size([4, 6])\n",
            "torch.Size([4, 1])\n"
          ],
          "name": "stdout"
        }
      ]
    },
    {
      "cell_type": "code",
      "metadata": {
        "id": "5aTN-aGJae2Q",
        "colab_type": "code",
        "colab": {
          "base_uri": "https://localhost:8080/",
          "height": 170
        },
        "outputId": "96ab6e6e-b936-477a-e264-fcd4a5d9bbb5"
      },
      "source": [
        "v = torch.tensor([12,4], dtype=torch.float32)\n",
        "w = torch.tensor([4,50], dtype=torch.float32)\n",
        "\n",
        "print('Dot products:')\n",
        "print(torch.dot(v, w))\n",
        "print(v.dot(w))\n",
        "\n",
        "# matrix-matrix products\n",
        "x = torch.tensor([[4,5],[2,2]], dtype=torch.float32)\n",
        "y = torch.tensor([[5,6],[9,1]], dtype=torch.float32)\n",
        "print(torch.mm(x, y))\n",
        "print(x.mm(y))\n",
        "\n",
        "print(torch.mv(x, v))\n",
        "print(x.mv(v))"
      ],
      "execution_count": 118,
      "outputs": [
        {
          "output_type": "stream",
          "text": [
            "Dot products:\n",
            "tensor(248.)\n",
            "tensor(248.)\n",
            "tensor([[65., 29.],\n",
            "        [28., 14.]])\n",
            "tensor([[65., 29.],\n",
            "        [28., 14.]])\n",
            "tensor([68., 32.])\n",
            "tensor([68., 32.])\n"
          ],
          "name": "stdout"
        }
      ]
    },
    {
      "cell_type": "markdown",
      "metadata": {
        "id": "y_3TzFSbcDap",
        "colab_type": "text"
      },
      "source": [
        "5.Broadcasting"
      ]
    },
    {
      "cell_type": "markdown",
      "metadata": {
        "id": "ylJjaD71TM8r",
        "colab_type": "text"
      },
      "source": [
        "# **modification3:**\n",
        "\n",
        "\n",
        "1.   change the shape of x to (5,3).\n",
        "\n",
        "2.   add the code about add the vector b to each column of a\n",
        "\n"
      ]
    },
    {
      "cell_type": "code",
      "metadata": {
        "id": "GEqy8wL7bpbd",
        "colab_type": "code",
        "colab": {
          "base_uri": "https://localhost:8080/",
          "height": 170
        },
        "outputId": "beb9a790-a22a-4ba5-bbdb-daaa0dadda26"
      },
      "source": [
        "x = torch.tensor([[1,2,3], [4,5,6], [7,8,9], [10, 11, 12],[13,14,15]])\n",
        "v = torch.tensor([10,20,30])\n",
        "y = torch.zeros_like(x)  \n",
        "\n",
        "# Add the vector v to each row of the matrix x with an explicit loop\n",
        "for i in range(5):\n",
        "    y[i, :] = x[i, :] + v\n",
        "print(y)\n",
        "\n",
        "a = torch.tensor([[1,2,3],[2,2,2],[3,4,3],[10,10,10]])\n",
        "b = torch.tensor([1,2,2,1])\n",
        "c = torch.zeros_like(a)\n",
        "# add the vector b to each column\n",
        "for i in range(3):\n",
        "  c[:,i] = a[:,i] + b\n",
        "print(c)\n"
      ],
      "execution_count": 123,
      "outputs": [
        {
          "output_type": "stream",
          "text": [
            "tensor([[11, 22, 33],\n",
            "        [14, 25, 36],\n",
            "        [17, 28, 39],\n",
            "        [20, 31, 42],\n",
            "        [23, 34, 45]])\n",
            "tensor([[ 2,  3,  4],\n",
            "        [ 4,  4,  4],\n",
            "        [ 5,  6,  5],\n",
            "        [11, 11, 11]])\n"
          ],
          "name": "stdout"
        }
      ]
    },
    {
      "cell_type": "markdown",
      "metadata": {
        "id": "YIWdNj1uUAJI",
        "colab_type": "text"
      },
      "source": [
        "# **modification_4:**\n",
        "do 'v.repeat(3,3)' and notice that the first variable indicates how many copies of v and return in row, while the second variable shows the number of copies by column."
      ]
    },
    {
      "cell_type": "code",
      "metadata": {
        "id": "Q8bPZN1bccrF",
        "colab_type": "code",
        "colab": {
          "base_uri": "https://localhost:8080/",
          "height": 153
        },
        "outputId": "be4a3ed1-69fb-4628-ecbf-3620b55a3607"
      },
      "source": [
        "v1 = v.repeat((5,1))\n",
        "print(v1)\n",
        "v2 = v.repeat(3,3)\n",
        "print(v2)"
      ],
      "execution_count": 129,
      "outputs": [
        {
          "output_type": "stream",
          "text": [
            "tensor([[10, 20, 30],\n",
            "        [10, 20, 30],\n",
            "        [10, 20, 30],\n",
            "        [10, 20, 30],\n",
            "        [10, 20, 30]])\n",
            "tensor([[10, 20, 30, 10, 20, 30, 10, 20, 30],\n",
            "        [10, 20, 30, 10, 20, 30, 10, 20, 30],\n",
            "        [10, 20, 30, 10, 20, 30, 10, 20, 30]])\n"
          ],
          "name": "stdout"
        }
      ]
    },
    {
      "cell_type": "code",
      "metadata": {
        "id": "uEKpdsovedaC",
        "colab_type": "code",
        "colab": {
          "base_uri": "https://localhost:8080/",
          "height": 102
        },
        "outputId": "7289d6a7-bc1e-41ee-8a52-a21988658395"
      },
      "source": [
        "y = x + v1\n",
        "print(y)"
      ],
      "execution_count": 131,
      "outputs": [
        {
          "output_type": "stream",
          "text": [
            "tensor([[11, 22, 33],\n",
            "        [14, 25, 36],\n",
            "        [17, 28, 39],\n",
            "        [20, 31, 42],\n",
            "        [23, 34, 45]])\n"
          ],
          "name": "stdout"
        }
      ]
    },
    {
      "cell_type": "code",
      "metadata": {
        "id": "_URW660oe45h",
        "colab_type": "code",
        "colab": {
          "base_uri": "https://localhost:8080/",
          "height": 85
        },
        "outputId": "15e8e84b-5e87-4a87-c76a-84b4dde4300f"
      },
      "source": [
        "x = torch.tensor([[1,2,3], [4,5,6], [7,8,9], [10, 11, 12]])\n",
        "v = torch.tensor([10, 0, 5])\n",
        "y = x + v \n",
        "print(y)"
      ],
      "execution_count": 133,
      "outputs": [
        {
          "output_type": "stream",
          "text": [
            "tensor([[11,  2,  8],\n",
            "        [14,  5, 11],\n",
            "        [17,  8, 14],\n",
            "        [20, 11, 17]])\n"
          ],
          "name": "stdout"
        }
      ]
    },
    {
      "cell_type": "markdown",
      "metadata": {
        "id": "2o7VdkiaU1jC",
        "colab_type": "text"
      },
      "source": [
        "# **modification_5:**\n",
        "change the dimension of v. the number of columns of flattened vector should be the same as rows of w so that they are productable.\n"
      ]
    },
    {
      "cell_type": "code",
      "metadata": {
        "id": "2PT0QyoyfGqS",
        "colab_type": "code",
        "colab": {
          "base_uri": "https://localhost:8080/",
          "height": 153
        },
        "outputId": "92e361a5-739f-48b2-928f-2948695ad39b"
      },
      "source": [
        "\n",
        "v = torch.tensor([[4,5,7,8],[3,4,5,8]])  \n",
        "w = torch.tensor([12,4,5,5])     \n",
        "print(v.view(8, 1) * w)"
      ],
      "execution_count": 137,
      "outputs": [
        {
          "output_type": "stream",
          "text": [
            "tensor([[48, 16, 20, 20],\n",
            "        [60, 20, 25, 25],\n",
            "        [84, 28, 35, 35],\n",
            "        [96, 32, 40, 40],\n",
            "        [36, 12, 15, 15],\n",
            "        [48, 16, 20, 20],\n",
            "        [60, 20, 25, 25],\n",
            "        [96, 32, 40, 40]])\n"
          ],
          "name": "stdout"
        }
      ]
    },
    {
      "cell_type": "code",
      "metadata": {
        "id": "pbACKMFegR0S",
        "colab_type": "code",
        "colab": {
          "base_uri": "https://localhost:8080/",
          "height": 34
        },
        "outputId": "eacfdcf6-8153-4788-f703-bf207d9d4402"
      },
      "source": [
        "import torch\n",
        "\n",
        "if torch.cuda.is_available:\n",
        "  print('PyTorch can use GPUs!')\n",
        "else:\n",
        "  print('PyTorch cannot use GPUs.')"
      ],
      "execution_count": 139,
      "outputs": [
        {
          "output_type": "stream",
          "text": [
            "PyTorch can use GPUs!\n"
          ],
          "name": "stdout"
        }
      ]
    },
    {
      "cell_type": "code",
      "metadata": {
        "id": "RTDnTxOmgVy4",
        "colab_type": "code",
        "colab": {}
      },
      "source": [
        ""
      ],
      "execution_count": null,
      "outputs": []
    }
  ]
}