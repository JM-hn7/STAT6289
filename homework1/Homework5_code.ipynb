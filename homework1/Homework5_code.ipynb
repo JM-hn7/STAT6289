{
 "cells": [
  {
   "cell_type": "code",
   "execution_count": 1,
   "metadata": {},
   "outputs": [],
   "source": [
    "from pymagnitude import *\n",
    "file_path = \"GoogleNews-vectors-negative300.magnitude\"\n",
    "vectors = Magnitude(file_path)"
   ]
  },
  {
   "cell_type": "code",
   "execution_count": 6,
   "metadata": {},
   "outputs": [
    {
     "data": {
      "text/plain": [
       "0.69145405"
      ]
     },
     "execution_count": 6,
     "metadata": {},
     "output_type": "execute_result"
    }
   ],
   "source": [
    "vectors.distance(\"cat\", \"dog\")"
   ]
  },
  {
   "cell_type": "code",
   "execution_count": 5,
   "metadata": {},
   "outputs": [
    {
     "data": {
      "text/plain": [
       "300"
      ]
     },
     "execution_count": 5,
     "metadata": {},
     "output_type": "execute_result"
    }
   ],
   "source": [
    "vectors.dim"
   ]
  },
  {
   "cell_type": "code",
   "execution_count": 4,
   "metadata": {},
   "outputs": [
    {
     "data": {
      "text/plain": [
       "[('picnics', 0.7400875),\n",
       " ('picnic_lunch', 0.721374),\n",
       " ('Picnic', 0.700534),\n",
       " ('potluck_picnic', 0.6683274),\n",
       " ('picnic_supper', 0.65189123)]"
      ]
     },
     "execution_count": 4,
     "metadata": {},
     "output_type": "execute_result"
    }
   ],
   "source": [
    "vectors.most_similar(\"picnic\", topn = 5) # Most similar by key"
   ]
  },
  {
   "cell_type": "code",
   "execution_count": 10,
   "metadata": {},
   "outputs": [
    {
     "data": {
      "text/plain": [
       "[('picnic', 0.9999998),\n",
       " ('picnics', 0.7400875),\n",
       " ('picnic_lunch', 0.721374),\n",
       " ('Picnic', 0.700534),\n",
       " ('potluck_picnic', 0.6683274)]"
      ]
     },
     "execution_count": 10,
     "metadata": {},
     "output_type": "execute_result"
    }
   ],
   "source": [
    "vectors.most_similar(vectors.query(\"picnic\"), topn = 5) # Most similar by vector\n"
   ]
  },
  {
   "cell_type": "code",
   "execution_count": 11,
   "metadata": {},
   "outputs": [
    {
     "data": {
      "text/plain": [
       "'tissue'"
      ]
     },
     "execution_count": 11,
     "metadata": {},
     "output_type": "execute_result"
    }
   ],
   "source": [
    "vectors.doesnt_match(['tissue', 'papyrus', 'manila', 'newsprint', 'parchment', 'gazette'])"
   ]
  },
  {
   "cell_type": "code",
   "execution_count": 16,
   "metadata": {},
   "outputs": [
    {
     "data": {
      "text/plain": [
       "[('legs', 0.45747823),\n",
       " ('thigh', 0.4567529),\n",
       " ('cervical_vertebra', 0.42476428),\n",
       " ('vertabra', 0.4221363),\n",
       " ('fibula', 0.42016602),\n",
       " ('pelvis', 0.41983044),\n",
       " ('achilles_tendon', 0.41773537),\n",
       " ('thoracic_vertebra', 0.4140833),\n",
       " ('ankle', 0.40969262),\n",
       " ('C7_vertebra', 0.40824115)]"
      ]
     },
     "execution_count": 16,
     "metadata": {},
     "output_type": "execute_result"
    }
   ],
   "source": [
    "vectors.most_similar(positive = [\"jump\", \"leg\"], negative = [\"throw\"])\n"
   ]
  },
  {
   "cell_type": "code",
   "execution_count": 15,
   "metadata": {},
   "outputs": [
    {
     "data": {
      "text/plain": [
       "[('legs', 0.85058904),\n",
       " ('thigh', 0.84816045),\n",
       " ('cervical_vertebra', 0.8436952),\n",
       " ('vertabra', 0.84359306),\n",
       " ('thoracic_vertebra', 0.84038955),\n",
       " ('achilles_tendon', 0.836431),\n",
       " ('pelvis', 0.83547205),\n",
       " ('deep_shin_bruise', 0.83506364),\n",
       " ('Matthias_Lanzinger', 0.8311217),\n",
       " ('Virtue_underwent_surgery', 0.82802796)]"
      ]
     },
     "execution_count": 15,
     "metadata": {},
     "output_type": "execute_result"
    }
   ],
   "source": [
    "vectors.most_similar_cosmul(positive = [\"leg\", \"jump\"], negative = [\"throw\"]) # queen\n"
   ]
  },
  {
   "cell_type": "code",
   "execution_count": 3,
   "metadata": {},
   "outputs": [
    {
     "data": {
      "text/plain": [
       "[('queen', 0.7118193),\n",
       " ('monarch', 0.61896753),\n",
       " ('princess', 0.5902431),\n",
       " ('crown_prince', 0.5499462),\n",
       " ('prince', 0.5377322),\n",
       " ('kings', 0.5236845),\n",
       " ('Queen_Consort', 0.5235946),\n",
       " ('queens', 0.5181134),\n",
       " ('sultan', 0.5098594),\n",
       " ('monarchy', 0.50874126)]"
      ]
     },
     "execution_count": 3,
     "metadata": {},
     "output_type": "execute_result"
    }
   ],
   "source": [
    "#check other words\n",
    "vectors.most_similar(positive = [\"woman\", \"king\"], negative = [\"man\"]) # queen"
   ]
  },
  {
   "cell_type": "code",
   "execution_count": null,
   "metadata": {},
   "outputs": [],
   "source": []
  }
 ],
 "metadata": {
  "kernelspec": {
   "display_name": "Python 3",
   "language": "python",
   "name": "python3"
  },
  "language_info": {
   "codemirror_mode": {
    "name": "ipython",
    "version": 3
   },
   "file_extension": ".py",
   "mimetype": "text/x-python",
   "name": "python",
   "nbconvert_exporter": "python",
   "pygments_lexer": "ipython3",
   "version": "3.7.6"
  }
 },
 "nbformat": 4,
 "nbformat_minor": 4
}
